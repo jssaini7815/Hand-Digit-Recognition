{
  "nbformat": 4,
  "nbformat_minor": 0,
  "metadata": {
    "colab": {
      "name": "Hand_digit_recognition_train.ipynb",
      "provenance": [],
      "authorship_tag": "ABX9TyPuRRHbOaiSJzI5i3UtO3f9",
      "include_colab_link": true
    },
    "kernelspec": {
      "name": "python3",
      "display_name": "Python 3"
    },
    "language_info": {
      "name": "python"
    }
  },
  "cells": [
    {
      "cell_type": "markdown",
      "metadata": {
        "id": "view-in-github",
        "colab_type": "text"
      },
      "source": [
        "<a href=\"https://colab.research.google.com/github/jssaini7815/Hand-Digit-Recognition/blob/main/Hand_digit_recognition_train.ipynb\" target=\"_parent\"><img src=\"https://colab.research.google.com/assets/colab-badge.svg\" alt=\"Open In Colab\"/></a>"
      ]
    },
    {
      "cell_type": "code",
      "metadata": {
        "id": "cY1hwUVLMxuF"
      },
      "source": [
        "import tensorflow as tf  # deep learning library. Tensors are just multi-dimensional arrays\n",
        "from keras.models import Sequential\n",
        "from keras.layers import Dense, Dropout, Flatten\n",
        "from keras.layers import Conv2D, MaxPooling2D\n",
        "import keras\n",
        "\n",
        "mnist = tf.keras.datasets.mnist  # mnist is a dataset of 28x28 images of handwritten digits and their labels\n",
        "(x_train, y_train),(x_test, y_test) = mnist.load_data()  # unpacks images to x_train/x_test and labels to y_train/y_test\n",
        "\n",
        "\n",
        "x_train = x_train.reshape(x_train.shape[0], 28, 28, 1)\n",
        "x_test = x_test.reshape(x_test.shape[0], 28, 28, 1)\n",
        "\n",
        "x_train = tf.keras.utils.normalize(x_train, axis=1)  # scales data between 0 and 1\n",
        "x_test = tf.keras.utils.normalize(x_test, axis=1)  # scales data between 0 and 1\n",
        "\n",
        "#model = tf.keras.models.Sequential()  # a basic feed-forward model\n",
        "#model.add(tf.keras.layers.Flatten())  # takes our 28x28 and makes it 1x784\n",
        "#model.add(tf.keras.layers.Dense(128, activation=tf.nn.relu))  # a simple fully-connected layer, 128 units, relu activation\n",
        "#model.add(tf.keras.layers.Dense(128, activation=tf.nn.relu))  # a simple fully-connected layer, 128 units, relu activation\n",
        "#model.add(tf.keras.layers.Dense(10, activation=tf.nn.softmax))  # our output layer. 10 units for 10 classes. Softmax for probability distribution\n",
        "\n",
        "# 6. Preprocess class labels\n",
        "# convert class vectors to binary class matrices\n",
        "y_train = keras.utils.to_categorical(y_train, 10)\n",
        "y_test = keras.utils.to_categorical(y_test, 10)\n",
        "\n",
        "model = Sequential()\n",
        "model.add(Conv2D(32, kernel_size=(3, 3),\n",
        "                 activation='relu',\n",
        "                 input_shape=(28,28,1)))\n",
        "model.add(Conv2D(64, (3, 3), activation='relu'))\n",
        "model.add(MaxPooling2D(pool_size=(2, 2)))\n",
        "model.add(Dropout(0.25))\n",
        "model.add(Flatten())\n",
        "model.add(Dense(128, activation='relu'))\n",
        "model.add(Dropout(0.5))\n",
        "model.add(Dense(10, activation='softmax'))\n",
        "\n",
        "model.compile(optimizer='Adadelta',  # Good default optimizer to start with\n",
        "              loss='categorical_crossentropy',  # how will we calculate our \"error.\" Neural network aims to minimize loss.\n",
        "              metrics=['accuracy'])  # what to track\n",
        "\n",
        "model.fit(x_train, y_train, epochs=10)  # train the model\n",
        "\n",
        "val_loss, val_acc = model.evaluate(x_test, y_test)  # evaluate the out of sample data with model\n",
        "print(val_loss)  # model's loss (error)\n",
        "print(val_acc)  # model's accuracy\n",
        "model.save('mymodel2.h5')"
      ],
      "execution_count": null,
      "outputs": []
    }
  ]
}